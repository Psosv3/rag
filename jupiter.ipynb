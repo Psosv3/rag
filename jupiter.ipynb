{
 "cells": [
  {
   "cell_type": "code",
   "execution_count": null,
   "id": "67df7895",
   "metadata": {},
   "outputs": [
    {
     "name": "stderr",
     "output_type": "stream",
     "text": [
      "100%|██████████| 1/1 [00:00<00:00,  2.14it/s]\n",
      "100%|██████████| 1/1 [00:00<00:00,  3.33it/s]\n"
     ]
    },
    {
     "name": "stdout",
     "output_type": "stream",
     "text": [
      "Voici une version affinée de la réponse initiale en intégrant le contexte supplémentaire fourni :\n",
      "\n",
      "---\n",
      "\n",
      "Onexia est un agent d'intelligence artificielle développé par Onexus pour améliorer les interactions au sein d'une entreprise. Il est conçu pour faciliter les échanges vocaux et textuels, automatiser la prise de notes et la synthèse des conversations, et fournir une assistance personnalisée aux utilisateurs dans un environnement collaboratif virtuel.\n",
      "\n",
      "Voici quelques points clés sur Onexia :\n",
      "\n",
      "1. **Présentation générale** : Onexia est un agent IA conçu pour automatiser et faciliter diverses tâches dans un environnement de travail collaboratif.\n",
      "\n",
      "2. **Objectifs et cas d'usage** :\n",
      "   - Faciliter la communication dans les espaces collaboratifs, comme les workspaces de Onexus.\n",
      "   - Automatiser la prise de notes et la synthèse des réunions.\n",
      "   - Aider à la navigation dans l'espace virtuel.\n",
      "   - Assister les candidats pendant les entretiens IA.\n",
      "\n",
      "3. **Architecture et composants** :\n",
      "   - **Frontend** : Inclut un module audio utilisant WebRTC, une interface utilisateur et des capacités d'analyse des flux audio.\n",
      "   - **Backend** : Utilise FastAPI et des modules de traitement vocal tels que la reconnaissance automatique de la parole (ASR), la détection de la parole (VAD) et la synthèse vocale (TTS).\n",
      "   - **IA** : Moteur de réponse alimenté par des modèles comme GPT ou Mistral, avec un support pour la récupération augmentée de connaissances (RAG) pour des réponses contextualisées.\n",
      "\n",
      "4. **Données et traitements** :\n",
      "   - Les données vocales sont transmises du frontend au backend en temps réel.\n",
      "   - Les enregistrements audio sont traités pour détecter les silences (VAD) et transcrire le texte (ASR).\n",
      "   - Les réponses de l'IA sont générées et restituées sous forme audio (TTS).\n",
      "\n",
      "5. **Mode d'utilisation de Onexia** :\n",
      "   1. Complétez les informations sur la page d'inscription, ou importez automatiquement votre CV.\n",
      "   2. Autorisez tous les périphériques audio (microphone, haut-parleurs).\n",
      "   3. Discutez avec Onexia normalement.\n",
      "   4. Si vous souhaitez terminer l'entretien, cliquez sur 'Terminer l'entretien'. Il est recommandé de poursuivre la conversation pendant 10 minutes pour une évaluation complète.\n",
      "   5. À la fin, cliquez sur 'Voir le résultat' en bas du site. Vous recevrez un e-mail avec votre résultat.\n",
      "\n",
      "6. **Bonnes pratiques et limitations** :\n",
      "   - L'IA ne remplace pas l'évaluation humaine : validez les résultats avec un expert.\n",
      "   - Garantir la confidentialité des données vocales et textuelles.\n",
      "   - Suivre les recommandations pour optimiser la qualité audio et la précision des transcriptions.\n",
      "\n",
      "7. **Perspectives d'évolution** :\n",
      "   - Détection des émotions vocales.\n",
      "   - Support multilingue complet.\n",
      "\n",
      "En résumé, Onexia est un outil puissant pour améliorer l'efficacité et la collaboration au sein de l'entreprise grâce à l'intelligence artificielle.\n",
      "\n",
      "---\n",
      "\n",
      "Cette version inclut les détails supplémentaires sur les étapes d'utilisation, les bonnes pratiques, les limitations et les perspectives d'évolution, offrant ainsi une vue plus complète et précise de Onexia.\n",
      "[Document(metadata={'source_id': 0, 'chunk_id': 0}, page_content=\"Onexia - Agent IA interne de [Votre entreprise]\\n1. Présentation générale\\nOnexia est un agent IA développé par Onexus pour vous. Il est conçu pour faciliter les échanges vocaux et textuels, automatiser la prise de notes et la synthèse des conversations, ainsi que pour fournir une assistance personnalisée aux utilisateurs dans un environnement collaboratif virtuel.\\n2. Objectifs et cas d'usage\\n- Faciliter la communication dans les espaces collaboratifs (ex: Onexus workspace)\\n- Automatiser la prise de notes et les synthèses de réunion\\n- Aider à la navigation dans l'espace virtuel\\n- Assister les candidats pendant les entretiens IA\\n3. Architecture et composants\\n- Frontend : module audio (WebRTC), interface utilisateur et analyse des flux audio\"), Document(metadata={'source_id': 0, 'chunk_id': 1}, page_content=\"- Frontend : module audio (WebRTC), interface utilisateur et analyse des flux audio\\n- Backend : FastAPI, modules de traitement vocal (ASR, VAD, TTS)\\n- IA : Moteur de réponse alimenté par GPT/Mistral, support RAG pour des réponses contextualisées\\n4. Données et traitements\\nLes données vocales sont transmises du frontend au backend en temps réel. Les enregistrements audio sont traités pour détecter les silences (VAD) et transcrire le texte (ASR). Les réponses IA sont générées et restituées sous forme audio (TTS).\\n5. Mode d'utilisation de Onexia\\n1) Complétez les informations sur la page d'inscription, ou importez automatiquement le CV.\\n2) Vous arriverez sur une page où un code vous sera demandé. Un e-mail sera envoyé à votre compte et vous utiliserez le code reçu pour accéder à l'application.\"), Document(metadata={'source_id': 0, 'chunk_id': 2}, page_content=\"3) Autorisez tous les périphériques audio (microphone, haut-parleurs).\\n4) Discutez avec Onexia normalement.\\n5) Si vous souhaitez terminer l'entretien, cliquez sur 'Terminer l'entretien'. Il est recommandé de poursuivre la conversation pendant 10 minutes pour une évaluation complète.\\n6) A la fin, cliquez sur 'Voir le résultat' en bas du site. Vous recevrez un e-mail avec votre résultat.\\n6. Bonnes pratiques et limitations\\n- L'IA ne remplace pas l'évaluation humaine : validez les résultats avec un expert.\\n- Garantir la confidentialité des données vocales et textuelles.\\n- Suivre les recommandations pour optimiser la qualité audio et la précision des transcriptions.\\n7. Perspectives d'évolution\\n- Détection des émotions vocales.\\n- Support multilingue complet.\")]\n"
     ]
    }
   ],
   "source": [
    "from rag_utils import get_answer, build_index, get_answer\n",
    "from fastapi import HTTPException\n",
    "import os\n",
    "from models import mistral_llm\n",
    "\n",
    "DATA_DIR = \"data\"\n",
    "os.makedirs(DATA_DIR, exist_ok=True)\n",
    "\n",
    "# Variable globale pour stocker l'index\n",
    "vectordb = None\n",
    "\n",
    "vectordb = build_index(DATA_DIR, HTTPException)\n",
    "\n",
    "retriever = vectordb.as_retriever()\n",
    "\n",
    "resp = get_answer(\"c'est quoi onexia?\",retriever,mistral_llm, chain_type=\"refine\")\n",
    "print(resp)\n",
    "print(resp[\"answer\"])\n",
    "print(resp[\"sources\"])"
   ]
  },
  {
   "cell_type": "code",
   "execution_count": null,
   "id": "e1ae6082",
   "metadata": {},
   "outputs": [],
   "source": [
    "\"\"\"from langchain_mistralai.chat_models import ChatMistralAI\n",
    "\n",
    "mistral_llm = ChatMistralAI(\n",
    "    api_key=\"MMgzK02HosimPpErmKqWrEC1xbGSIAuC\",\n",
    "    model=\"mistral-small-latest\",\n",
    "    temperature=0.7,\n",
    ")\"\"\"\n"
   ]
  },
  {
   "cell_type": "code",
   "execution_count": null,
   "id": "0d65fded",
   "metadata": {},
   "outputs": [],
   "source": []
  }
 ],
 "metadata": {
  "kernelspec": {
   "display_name": ".venv",
   "language": "python",
   "name": "python3"
  },
  "language_info": {
   "codemirror_mode": {
    "name": "ipython",
    "version": 3
   },
   "file_extension": ".py",
   "mimetype": "text/x-python",
   "name": "python",
   "nbconvert_exporter": "python",
   "pygments_lexer": "ipython3",
   "version": "3.11.9"
  }
 },
 "nbformat": 4,
 "nbformat_minor": 5
}
