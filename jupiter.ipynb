{
 "cells": [
  {
   "cell_type": "code",
   "execution_count": 1,
   "id": "67df7895",
   "metadata": {},
   "outputs": [
    {
     "name": "stderr",
     "output_type": "stream",
     "text": [
      "100%|██████████| 7/7 [00:11<00:00,  1.69s/it]\n"
     ]
    }
   ],
   "source": [
    "from rag_utils import get_answer, build_index, get_answer\n",
    "from fastapi import HTTPException\n",
    "import os\n",
    "\n",
    "DATA_DIR = \"data\"\n",
    "os.makedirs(DATA_DIR, exist_ok=True)\n",
    "\n",
    "# Variable globale pour stocker l'index\n",
    "vectordb = None\n",
    "\n",
    "vectordb = build_index(DATA_DIR, HTTPException)"
   ]
  },
  {
   "cell_type": "code",
   "execution_count": 6,
   "id": "e1ae6082",
   "metadata": {},
   "outputs": [],
   "source": [
    "from langchain_mistralai.chat_models import ChatMistralAI\n",
    "\n",
    "mistral_llm = ChatMistralAI(\n",
    "    api_key=\"MMgzK02HosimPpErmKqWrEC1xbGSIAuC\",\n",
    "    model=\"mistral-small-latest\",\n",
    "    temperature=0.7,\n",
    ")\n",
    "\n",
    "\n",
    "retriever = vectordb.as_retriever(search_kwargs={\"k\": 5})\n",
    "\n"
   ]
  },
  {
   "cell_type": "code",
   "execution_count": 7,
   "id": "0d65fded",
   "metadata": {},
   "outputs": [
    {
     "name": "stderr",
     "output_type": "stream",
     "text": [
      "100%|██████████| 1/1 [00:00<00:00,  2.63it/s]\n"
     ]
    },
    {
     "name": "stdout",
     "output_type": "stream",
     "text": [
      "L'histoire des jeux vidéo commence dans les années 1970 avec des titres emblématiques comme \"Pong\" (1972) et \"Space Invaders\" (1978). À l'origine, ces jeux étaient de simples divertissements, mais ils ont rapidement évolué vers des formes plus complexes et immersives.\n",
      "\n",
      "Dans les années 1990, l'arrivée de consoles comme la PlayStation et la Nintendo 64 a marqué une nouvelle ère, avec l'essor de la 3D et des jeux narratifs. Des titres comme \"Final Fantasy VII\" ou \"The Legend of Zelda: Ocarina of Time\" sont devenus cultes.\n",
      "\n",
      "Aujourd'hui, les jeux vidéo touchent un large public, allant du joueur occasionnel au joueur professionnel, et couvrent une grande variété de genres, tels que les jeux de rôle (RPG), les FPS (First Person Shooter), les MOBA, et les jeux de stratégie.\n",
      "\n",
      "Le e-sport, ou sport électronique, a pris une grande place dans l'univers vidéoludique, avec des compétitions mondiales comme \"The International\" (Dota 2) ou \"League of Legends World Championship\" attirant des millions de spectateurs.\n",
      "\n",
      "Au-delà du divertissement, les jeux vidéo sont également utilisés dans des contextes éducatifs, thérapeutiques et militaires. Ils peuvent développer des compétences telles que la coordination œil-main, la résolution de problèmes et le travail d'équipe.\n",
      "[Document(metadata={'source_id': 0, 'chunk_id': 0}, page_content=\"Histoire et impact des jeux vidéo\\nLes jeux vidéo sont apparus dans les années 1970, avec des titres emblématiques comme Pong\\n(1972) ou Space Invaders (1978). \\nA l'origine simples divertissements, ils ont rapidement évolué vers des formes plus complexes et\\nimmersives.\\nDans les années 1990, l'arrivée de consoles comme la PlayStation ou la Nintendo 64 a marqué une\\nnouvelle ère, \\navec l'essor de la 3D et des jeux narratifs. Des titres comme Final Fantasy VII ou The Legend of\\nZelda: Ocarina of Time sont devenus cultes.\\nAujourd'hui, les jeux vidéo touchent un large public, allant du joueur occasionnel au joueur\\nprofessionnel. \\nDes genres variés existent : jeux de rôle (RPG), FPS (First Person Shooter), MOBA, jeux de\\nstratégie, etc.\"), Document(metadata={'source_id': 0, 'chunk_id': 1}, page_content=\"stratégie, etc.\\nLe e-sport, ou sport électronique, a pris une grande place dans l'univers vidéoludique. \\nDes compétitions mondiales comme The International (Dota 2) ou League of Legends World\\nChampionship attirent des millions de spectateurs.\\nAu-delà du divertissement, les jeux vidéo sont aussi utilisés dans des contextes éducatifs,\\nthérapeutiques et même militaires. \\nIls peuvent développer des compétences telles que la coordination oeil-main, la résolution de\\nproblèmes ou le travail d'équipe.\"), Document(metadata={'source_id': 1, 'chunk_id': 54}, page_content='ça ne date pas d’hier ces histoires et ça n’est pas fini ! Ce qui est\\nsûr, c’est qu’avec l’essor incroyable de certaines technologies\\nmodernes, manipuler les masses est devenu beaucoup plus facile et\\nrentable.\\nDans le même temps, notre mode de vie est devenu plus rapide,\\nplus superficiel, plus bruyant, plus polluant, plus addictif et plus\\ninsatisfaisant que jamais. Bien trop souvent, nous sommes\\ndépendants d’outils numériques qui, à coup de notifications visuelles\\nou sonores, stimulent notre système neuronal de récompense.\\nSaviez-vous que ce système commun aux mammifères est\\ndirectement lié au plaisir, à la motivation et aux apprentissages\\nréalisés par le conditionnement ? On l’appelle aussi « système de\\nrenforcement » ! Il permet, par exemple, de se sentir lié, même')]\n"
     ]
    }
   ],
   "source": [
    "\n",
    "resp = get_answer(\"quelle esy l'istoire et impact des jeux vidéo?\",retriever,mistral_llm)\n",
    "print(resp[\"answer\"])\n",
    "print(resp[\"sources\"])"
   ]
  }
 ],
 "metadata": {
  "kernelspec": {
   "display_name": ".venv",
   "language": "python",
   "name": "python3"
  },
  "language_info": {
   "codemirror_mode": {
    "name": "ipython",
    "version": 3
   },
   "file_extension": ".py",
   "mimetype": "text/x-python",
   "name": "python",
   "nbconvert_exporter": "python",
   "pygments_lexer": "ipython3",
   "version": "3.11.9"
  }
 },
 "nbformat": 4,
 "nbformat_minor": 5
}
